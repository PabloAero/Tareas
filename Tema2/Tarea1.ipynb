{
  "nbformat": 4,
  "nbformat_minor": 0,
  "metadata": {
    "colab": {
      "name": "Untitled1.ipynb",
      "provenance": [],
      "authorship_tag": "ABX9TyPArIre6K74C8gKE32XXprI",
      "include_colab_link": true
    },
    "kernelspec": {
      "name": "python3",
      "display_name": "Python 3"
    }
  },
  "cells": [
    {
      "cell_type": "markdown",
      "metadata": {
        "id": "view-in-github",
        "colab_type": "text"
      },
      "source": [
        "<a href=\"https://colab.research.google.com/github/PabloAero/Tareas/blob/main/Tema2/Tarea1.ipynb\" target=\"_parent\"><img src=\"https://colab.research.google.com/assets/colab-badge.svg\" alt=\"Open In Colab\"/></a>"
      ]
    },
    {
      "cell_type": "code",
      "metadata": {
        "colab": {
          "base_uri": "https://localhost:8080/"
        },
        "id": "9zujW0ZOghQG",
        "outputId": "075fd855-7eec-4f3a-c610-8e0506f44790"
      },
      "source": [
        "print(\"¿Cuál es tu primer nombre?\")\r\n",
        "nombre=input()\r\n",
        "print(\"¿Cuál es tu apellido paterno?\")\r\n",
        "AP=input()\r\n",
        "print(\"Cuál es tu apellido materno?\")\r\n",
        "AM=input()\r\n",
        "\r\n",
        "NC=nombre+ \" \"+ \"\" + AP+ \" \"+AM\r\n",
        "\r\n",
        "print(\"Tu nombre completo es \",NC)\r\n"
      ],
      "execution_count": 16,
      "outputs": [
        {
          "output_type": "stream",
          "text": [
            "¿Cuál es tu primer nombre?\n",
            "Pablo\n",
            "¿Cuál es tu apellido paterno?\n",
            "Moreno\n",
            "Cuál es tu apellido materno?\n",
            "Aguilar\n",
            "Tu nombre completo es  Pablo Moreno Aguilar\n"
          ],
          "name": "stdout"
        }
      ]
    }
  ]
}